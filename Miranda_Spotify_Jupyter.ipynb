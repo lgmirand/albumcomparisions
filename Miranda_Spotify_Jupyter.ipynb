{
 "cells": [
  {
   "cell_type": "code",
   "execution_count": 95,
   "metadata": {},
   "outputs": [],
   "source": [
    "#install package for spotify api (spotipy)\n",
    "#documentation: https://spotipy.readthedocs.io/en/2.9.0/\n",
    "# import pip._internal as pip\n",
    "# package_name=['spotipy'] #package to install\n",
    "# pip.main(['install'] + package_name + ['--upgrade']) "
   ]
  },
  {
   "cell_type": "code",
   "execution_count": 2,
   "metadata": {},
   "outputs": [],
   "source": [
    "#loading all needed packages\n",
    "import spotipy\n",
    "import spotipy.util\n",
    "import sys\n",
    "import pandas as pd\n",
    "import numpy as np\n",
    "import sklearn as sk\n",
    "import matplotlib.pyplot as plt"
   ]
  },
  {
   "cell_type": "code",
   "execution_count": 3,
   "metadata": {},
   "outputs": [],
   "source": [
    "#spotify authorization: code from spotipy documentation\n",
    "from spotipy.oauth2 import SpotifyClientCredentials\n",
    "\n",
    "client_credentials_manager = SpotifyClientCredentials(client_id='e9eba946c668460e897d046a8a100e47', client_secret='8b624ef3fbcc40ad8168fb7eb04f7bfc')\n",
    "sp = spotipy.Spotify(client_credentials_manager=client_credentials_manager)"
   ]
  },
  {
   "cell_type": "markdown",
   "metadata": {},
   "source": [
    "### Pulling Song URI's from Two Albums"
   ]
  },
  {
   "cell_type": "markdown",
   "metadata": {},
   "source": [
    "First get uri for the artist, then uri for the two albums you want to compare, then each song in each album. \n",
    "Here we assume we are only comparing albums from the same artist"
   ]
  },
  {
   "cell_type": "markdown",
   "metadata": {},
   "source": [
    "#### Getting artist uri"
   ]
  },
  {
   "cell_type": "code",
   "execution_count": 4,
   "metadata": {},
   "outputs": [],
   "source": [
    "#code from bonnarhythms, just for one artist\n",
    "artist_names = ['the 1975']\n",
    "artists = {}\n",
    "\n",
    "for name in artist_names:\n",
    "    results = sp.search(q='artist:' + name, type='artist')\n",
    "    items = results['artists']['items']\n",
    "    try:\n",
    "        artists[items[0]['name']] = items[0]['id'] # add key-value pair of each artist name and their spotify ID\n",
    "    except:\n",
    "        print(name)  "
   ]
  },
  {
   "cell_type": "markdown",
   "metadata": {},
   "source": [
    "#### Getting individual song uris"
   ]
  },
  {
   "cell_type": "code",
   "execution_count": 5,
   "metadata": {},
   "outputs": [
    {
     "name": "stdout",
     "output_type": "stream",
     "text": [
      "Choose two to compare: \n",
      "A Brief Inquiry Into Online Relationships\n",
      "DH00278 (Live)\n",
      "DH00278 (Live from The O2, London. 16.12.16)\n",
      "I like it when you sleep, for you are so beautiful yet so unaware of it\n",
      "The 1975\n",
      "The 1975 (Deluxe)\n",
      "The 1975 (Deluxe Version)\n",
      "The 1975 (Deluxe Edition)\n",
      "Sex\n"
     ]
    }
   ],
   "source": [
    "for value in artists:\n",
    "    albums = [] \n",
    "    trackid = []\n",
    "    results = sp.artist_albums(artists[value], album_type='album')\n",
    "    albums.extend(results['items'])\n",
    "    while results['next']:\n",
    "        results = sp.next(results)\n",
    "        albums.extend(results['items'])\n",
    "    unique = set()  # skip duplicate albums\n",
    "    print('Choose two to compare: ')\n",
    "    for album in albums:\n",
    "        name = album['name']\n",
    "        if name not in unique: #adds non-duplicates to unique set\n",
    "            print(name)\n",
    "            unique.add(name)\n",
    "            tracks = []\n",
    "            \n",
    "            results = sp.album_tracks(album['id'])\n",
    "            tracks.extend(results['items'])\n",
    "            while results['next']:\n",
    "                results = sp.next(results)\n",
    "                tracks.extend(results['items'])\n",
    "            for track in tracks: \n",
    "                trackid.append([album['name'], track['name'],track['uri']]) #creates a list of lists \n",
    "    df = pd.DataFrame(trackid, columns =['AlbumName', 'TrackName', 'uri'])  #makes list of lists into a dataframe\n",
    "    "
   ]
  },
  {
   "cell_type": "markdown",
   "metadata": {},
   "source": [
    "#### Subsetting data to two selected comparisons\n",
    "user must put manually input the two albums they want to compare"
   ]
  },
  {
   "cell_type": "code",
   "execution_count": 6,
   "metadata": {},
   "outputs": [],
   "source": [
    "#function to subset data based on two selected albums\n",
    "def subset_album_compare(album1,album2):\n",
    "    global uris #make this global so we can use outside the function\n",
    "    global comparisondf\n",
    "    global album_1 #global for use in encoding target variable later\n",
    "    global album_2\n",
    "    \n",
    "    comparisondf = df[(df['AlbumName'] == album1) | (df['AlbumName'] == album2)] #new dataframe\n",
    "    uris = comparisondf['uri'].tolist() #list of only uri's for pulling features and analysis  \n",
    "    album_1 = album1\n",
    "    album_2 = album2"
   ]
  },
  {
   "cell_type": "code",
   "execution_count": 7,
   "metadata": {},
   "outputs": [],
   "source": [
    "#user decides which two albums to compare, this is case sensitive so copy paste from above options\n",
    "subset_album_compare('The 1975', 'A Brief Inquiry Into Online Relationships')"
   ]
  },
  {
   "cell_type": "markdown",
   "metadata": {},
   "source": [
    "### Pulling and narrowing down features"
   ]
  },
  {
   "cell_type": "markdown",
   "metadata": {},
   "source": [
    "#### Getting audio features"
   ]
  },
  {
   "cell_type": "code",
   "execution_count": 15,
   "metadata": {},
   "outputs": [],
   "source": [
    "features=pd.DataFrame()\n",
    "features=pd.DataFrame(sp.audio_features(uris)) #load into dataframe\n",
    "song_features = pd.merge(comparisondf, features, on='uri') #merge features with main comparisondf dataframe"
   ]
  },
  {
   "cell_type": "markdown",
   "metadata": {},
   "source": [
    "#### Formatting target var and categorical features to be numeric"
   ]
  },
  {
   "cell_type": "code",
   "execution_count": 20,
   "metadata": {},
   "outputs": [],
   "source": [
    "#removed mode for this specific case because it gives very little added info, removed uri and track name bc not relevant for analysis\n",
    "song_features = song_features[['AlbumName','acousticness','danceability','duration_ms','energy','instrumentalness','key','liveness','loudness','speechiness','tempo','time_signature','valence']]\n",
    "\n",
    "#one-hot encode categorical object: time signature\n",
    "song_features_encoded=pd.get_dummies(song_features, columns=[\"time_signature\"])\n",
    "\n",
    "#change album name to binary: 0 is a brief inquiry, 1 is the 1975\n",
    "song_features_encoded[\"album\"] = np.where(song_features[\"AlbumName\"].str.contains(album_1), 1, 0)\n",
    "\n",
    "#drop album name\n",
    "song_features_encoded=song_features_encoded.drop(['AlbumName'], axis=1).astype(np.float64)\n",
    "\n",
    "#export to csv\n",
    "song_features_encoded.to_csv(r'C:\\Users\\Liesl\\Desktop\\Resumes\\Untitled Folder\\song_features_encoded.csv')"
   ]
  },
  {
   "cell_type": "markdown",
   "metadata": {},
   "source": [
    "#### Use PCA to analyze current features: only"
   ]
  },
  {
   "cell_type": "markdown",
   "metadata": {},
   "source": [
    "code pulled from here: https://towardsdatascience.com/pca-using-python-scikit-learn-e653f8989e60"
   ]
  },
  {
   "cell_type": "code",
   "execution_count": 10,
   "metadata": {},
   "outputs": [],
   "source": [
    "#standardize the data\n",
    "from sklearn.preprocessing import StandardScaler\n",
    "features = ['acousticness', 'danceability', 'duration_ms', 'energy', 'instrumentalness', 'key','liveness','loudness','speechiness','tempo','valence', \\\n",
    "           'time_signature_3', 'time_signature_4'] #must manually change time signature variables based on what is in the data, all other vars remain the same regardless of artist/album\n",
    "\n",
    "# Separating out the features\n",
    "x = song_features_encoded.loc[:, features].values\n",
    "# Separating out the target\n",
    "y = song_features_encoded.loc[:,['album']].values\n",
    "# Standardizing the features\n",
    "x = StandardScaler().fit_transform(x)"
   ]
  },
  {
   "cell_type": "code",
   "execution_count": 11,
   "metadata": {},
   "outputs": [],
   "source": [
    "#get pca analysis\n",
    "from sklearn.decomposition import PCA\n",
    "pca = PCA(n_components=2)\n",
    "principalComponents = pca.fit_transform(x)\n",
    "principalDf = pd.DataFrame(data = principalComponents\n",
    "             , columns = ['principal component 1', 'principal component 2'])\n",
    "\n",
    "#final dataframe\n",
    "finalDf = pd.concat([principalDf, song_features_encoded[['album']]], axis = 1)"
   ]
  },
  {
   "cell_type": "code",
   "execution_count": 12,
   "metadata": {},
   "outputs": [
    {
     "data": {
      "image/png": "[encoded data removed]",
      "text/plain": [
       "<Figure size 576x576 with 1 Axes>"
      ]
     },
     "metadata": {
      "needs_background": "light"
     },
     "output_type": "display_data"
    }
   ],
   "source": [
    "#plot first two principle components\n",
    "fig = plt.figure(figsize = (8,8))\n",
    "ax = fig.add_subplot(1,1,1) \n",
    "ax.set_xlabel('Principal Component 1', fontsize = 15)\n",
    "ax.set_ylabel('Principal Component 2', fontsize = 15)\n",
    "ax.set_title('2 component PCA', fontsize = 20)\n",
    "targets = [0, 1]\n",
    "colors = ['r', 'g']\n",
    "for target, color in zip(targets,colors):\n",
    "    indicesToKeep = finalDf['album'] == target\n",
    "    ax.scatter(finalDf.loc[indicesToKeep, 'principal component 1']\n",
    "               , finalDf.loc[indicesToKeep, 'principal component 2']\n",
    "               , c = color\n",
    "               , s = 50)\n",
    "ax.legend(targets)\n",
    "ax.grid()"
   ]
  },
  {
   "cell_type": "code",
   "execution_count": 13,
   "metadata": {},
   "outputs": [
    {
     "data": {
      "text/plain": [
       "array([0.35899984, 0.18484605])"
      ]
     },
     "execution_count": 13,
     "metadata": {},
     "output_type": "execute_result"
    }
   ],
   "source": [
    "#get percent of variance explained by first two components\n",
    "pca.explained_variance_ratio_"
   ]
  },
  {
   "cell_type": "markdown",
   "metadata": {},
   "source": [
    "### TRANSFER TO R: "
   ]
  },
  {
   "cell_type": "code",
   "execution_count": null,
   "metadata": {},
   "outputs": [],
   "source": [
    "# library(tidyverse)\n",
    "# library(glmnet)\n",
    "# library(car)\n",
    "\n",
    "# #load data in\n",
    "# features <- read.csv('C:/Users/Liesl/Desktop/Resumes/Untitled Folder/song_features_encoded.csv')\n",
    "\n",
    "# #TEST THROUGH FULL VARIABLE SET\n",
    "# #subset into features and target var. note if you choose a new artist you may have to change column ## based on how many time sig values you have\n",
    "# x <- as.matrix(features[,-c(1,15)]) #include all variables (except row# and target)\n",
    "# y <- features[,15] #target\n",
    "\n",
    "# #finding optimal value of lambda\n",
    "# cv.lasso <- cv.glmnet(x, y, alpha = 1, family = \"binomial\")\n",
    "# cv.lasso$lambda.min\n",
    "# cv.lasso$lambda.1se\n",
    "\n",
    "# #view coefficients of variables\n",
    "# coef(cv.lasso,cv.lasso$lambda.min)\n",
    "# coef(cv.lasso,cv.lasso$lambda.1se)\n",
    "# #RESULT: both min and 1se keep: acousticness, duration_ms, energy, liveness, loudness, tempo, time signatures\n",
    "\n",
    "# #keep only the vars that the lasso kept, remove second ts as it is redundant info (what is 0 in ts3 is 1 in ts4)\n",
    "# x.lasso <- as.matrix(features[,c(2,4,5,8,9,11,13)])\n",
    "# #get new lambdas\n",
    "# cv.lasso.new <- cv.glmnet(x.lasso, y, alpha = 1, family = \"binomial\")\n",
    "# coef(cv.lasso.new,cv.lasso.new$lambda.min)\n",
    "\n",
    "# #model from chosen vars, use lambda.min to get lambda for most accurate model\n",
    "# lasso.model <- glmnet(x, y, alpha = 1, family = \"binomial\",\n",
    "#                       lambda = cv.lasso$lambda.min)\n",
    "\n",
    "# # view accuracy of model on current data\n",
    "# probabilities <- lasso.model %>% predict(newx = x)\n",
    "# predicted.classes <- ifelse(probabilities > 0.5, 1, 0)\n",
    "\n",
    "# #check accuracy\n",
    "# observed.classes <- features$album\n",
    "# mean(predicted.classes == observed.classes)"
   ]
  },
  {
   "cell_type": "markdown",
   "metadata": {},
   "source": [
    "### Results\n",
    " \n",
    "Through lasso & logistic regression, R narrowed down the following variables to be those of most significance in distinguishing between the two albums (listed highest to lowest in abs value of variable coeff):\n",
    "    - energy\n",
    "    - time signature\n",
    "    - liveness\n",
    "    - acousticness\n",
    "    - loudness\n",
    "    - tempo\n",
    "    - duration"
   ]
  },
  {
   "cell_type": "markdown",
   "metadata": {},
   "source": [
    "### Appendix (for unused code)"
   ]
  },
  {
   "cell_type": "markdown",
   "metadata": {},
   "source": [
    "#### Aggregating audio analysis (don't end up using this, but just in case you need it\n"
   ]
  },
  {
   "cell_type": "code",
   "execution_count": null,
   "metadata": {},
   "outputs": [],
   "source": [
    "# #just for one song\n",
    "# aud_analysis =sp.audio_analysis(spotify:track:7dvM0LbJ4pu1tDJnCH1Ahg)\n",
    "# aud_sections = {'sections':aud_analysis['sections']} #extract subset of data for just sections\n",
    "# for value in aud_sections.values(): #get dataframe of values\n",
    "#     test=pd.DataFrame(value)\n",
    "#     print(test)"
   ]
  }
 ],
 "metadata": {
  "kernelspec": {
   "display_name": "Python 3",
   "language": "python",
   "name": "python3"
  },
  "language_info": {
   "codemirror_mode": {
    "name": "ipython",
    "version": 3
   },
   "file_extension": ".py",
   "mimetype": "text/x-python",
   "name": "python",
   "nbconvert_exporter": "python",
   "pygments_lexer": "ipython3",
   "version": "3.7.3"
  }
 },
 "nbformat": 4,
 "nbformat_minor": 2
}
